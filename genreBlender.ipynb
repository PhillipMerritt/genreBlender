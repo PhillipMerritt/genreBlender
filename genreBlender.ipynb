{
 "metadata": {
  "language_info": {
   "codemirror_mode": {
    "name": "ipython",
    "version": 3
   },
   "file_extension": ".py",
   "mimetype": "text/x-python",
   "name": "python",
   "nbconvert_exporter": "python",
   "pygments_lexer": "ipython3",
   "version": "3.6.8-final"
  },
  "orig_nbformat": 2,
  "kernelspec": {
   "name": "Python 3.6.8 64-bit ('env')",
   "display_name": "Python 3.6.8 64-bit ('env')",
   "metadata": {
    "interpreter": {
     "hash": "658adce148130a95ff97917b0f5db611d0316206fc9c97aeab17bbda991e05a9"
    }
   }
  }
 },
 "nbformat": 4,
 "nbformat_minor": 2,
 "cells": [
  {
   "cell_type": "code",
   "execution_count": 159,
   "metadata": {},
   "outputs": [],
   "source": [
    "import numpy as np\n",
    "from music21 import converter, instrument, note, chord, meter, duration, stream\n",
    "import music21"
   ]
  },
  {
   "cell_type": "code",
   "execution_count": null,
   "metadata": {},
   "outputs": [],
   "source": [
    "\"\"\"We modeled the monophonic melodies and basslines as\n",
    "sequences of 16th note events. This resulted in a 130-\n",
    "dimensional output space (categorical distribution over tokens) with 128 “note-on” tokens for the 128 MIDI pitches,\n",
    "plus single tokens for “note-off” and “rest”. For drum patterns, we mapped the 61 drum classes defined by the General\n",
    "MIDI standard (International MIDI Association, 1991) to 9\n",
    "canonical classes and represented all possible combinations\n",
    "of hits with 512 categorical tokens. For timing, in all cases\n",
    "we quantized notes to 16th note intervals, such that each\n",
    "bar consisted of 16 events. As a result, our two-bar data\n",
    "(used as a proof-of-concept with a flat decoder) resulted in\n",
    "sequences with T = 32 and 16-bar data had T = 256. For\n",
    "our hierarchical models, we use U = 16, meaning each\n",
    "subsequence corresponded to a single bar\"\"\""
   ]
  },
  {
   "cell_type": "code",
   "execution_count": 47,
   "metadata": {},
   "outputs": [
    {
     "output_type": "stream",
     "name": "stdout",
     "text": [
      "3\n4\n"
     ]
    }
   ],
   "source": [
    "ts = meter.TimeSignature('3/4')\n",
    "print(ts.numerator)\n",
    "print(ts.denominator)"
   ]
  },
  {
   "cell_type": "code",
   "execution_count": 204,
   "metadata": {},
   "outputs": [
    {
     "output_type": "execute_result",
     "data": {
      "text/plain": [
       "' for element in notes_to_parse:\\n    break\\n    if isinstance(element, note.Note):\\n        print(\"{}\\t{}\\t{}\\t{}\\t{}\".format(element, element.pitch.midi, element.beat, element.duration, element.measureNumber))\\n    elif isinstance(element, chord.Chord):\\n        #element.duration.type = \\'eighth\\'\\n        print(\"{}\\t{}\".format(element, [p.midi for p in element.pitches]))\\n    else:\\n        print(element) '"
      ]
     },
     "metadata": {},
     "execution_count": 204
    }
   ],
   "source": [
    "#midi_path = 'data/midis/8th_allnotes_oneinstrument.mid'\n",
    "#midi_path = 'data/midis/Rod_Bass_-_Quantized.mid'\n",
    "midi_path = 'data/acdc/Sin_City.mid'\n",
    "\n",
    "\n",
    "midi = converter.parse(midi_path)\n",
    "ts = midi.getTimeSignatures()[0]\n",
    "num = ts.numerator\n",
    "denom = ts.denominator\n",
    "\n",
    "measure_length = None # length of measure in 16ths\n",
    "single_note_length = None # length of a single note in 16ths\n",
    "\n",
    "if denom / 4 == 1:\n",
    "    measure_length = num * 4 # quarter notes\n",
    "    single_note_length = 4\n",
    "elif denom / 4 == 2:\n",
    "    measure_length = num * 2 # eigth notes\n",
    "    single_note_length = 2\n",
    "elif denom / 4 == 4:\n",
    "    measure_length = num # 16ths\n",
    "    single_note_length = 1\n",
    "\n",
    "\n",
    "notes_to_parse = None\n",
    "parts = instrument.partitionByInstrument(midi)\n",
    "if parts: # file has instrument parts\n",
    "    notes_to_parse = parts.parts[1].recurse()\n",
    "    parts.parts[1].makeMeasures(inPlace=True)\n",
    "    measureMap = parts.parts[1].measureOffsetMap()\n",
    "else: # file has notes in a flat structure\n",
    "    notes_to_parse = midi.flat.notes\n",
    "\n",
    "#current_instrument = measureMap[0.0][0].instrument\n",
    "#data = encode_midi([measureMap[0.0], measureMap[4.0]], t=128)\n",
    "\n",
    "\"\"\" for element in notes_to_parse:\n",
    "    break\n",
    "    if isinstance(element, note.Note):\n",
    "        print(\"{}\\t{}\\t{}\\t{}\\t{}\".format(element, element.pitch.midi, element.beat, element.duration, element.measureNumber))\n",
    "    elif isinstance(element, chord.Chord):\n",
    "        #element.duration.type = 'eighth'\n",
    "        print(\"{}\\t{}\".format(element, [p.midi for p in element.pitches]))\n",
    "    else:\n",
    "        print(element) \"\"\""
   ]
  },
  {
   "cell_type": "code",
   "execution_count": 208,
   "metadata": {},
   "outputs": [],
   "source": [
    "def insert_note(arr, note, offset_16th): \n",
    "    idx = int(offset_16th + (note.beat - 1) * single_note_length)\n",
    "    arr[int(note.pitch.midi), idx] = True\n",
    "\n",
    "    note_off = idx + int(note.duration.quarterLength * 4) - 1\n",
    "    if note_off >= arr.shape[1]:\n",
    "        note_off = arr.shape[1] - 1\n",
    "    arr[-1, note_off] = True\n",
    "\n",
    "def encode_midi(measureMap, t=32, header=None):\n",
    "    data = np.zeros((130, t), dtype=np.bool)\n",
    "    measure_count = 0\n",
    "    fill_header = True\n",
    "\n",
    "    for i in range(0, t, measure_length):\n",
    "        for element in measureMap[i / 4.0][0]:\n",
    "            #print(element)\n",
    "            if isinstance(element, note.Note):\n",
    "                fill_header = False\n",
    "                insert_note(data, element, i)\n",
    "            elif fill_header and header != None:\n",
    "                print(type(element))\n",
    "                header.append(element)\n",
    "\n",
    "            \"\"\"elif isinstance(element, music21.clef.TrebleClef) or isinstance(element, music21.clef.BassClef):\n",
    "                clf = element\n",
    "            elif isinstance(element, music21.tempo.MetronomeMark):\n",
    "                tempo = element\n",
    "            elif isinstance(element, music21.key.Key):\n",
    "                song_key = element\n",
    "            elif isinstance(element, music21.instrument.Instrument):\n",
    "                inst = element\n",
    "            elif isinstance(element, music21.meter.TimeSignature):\n",
    "                ts = element\n",
    "            else:\n",
    "                print(type(element))\"\"\"\n",
    "    \n",
    "    return data\n",
    "\n",
    "def decode_midi(data, header=None):\n",
    "    strm = stream.Stream()\n",
    "    \n",
    "    for element in header[1:]: # TODO: right now I'm skipping the instrument because it adds like 10 empty measures for some reason\n",
    "        strm.append(element)\n",
    "\n",
    "    current_note = None\n",
    "    current_length = 0.25\n",
    "\n",
    "    for t in range(data.shape[1]):\n",
    "        nothing = True\n",
    "\n",
    "        for p, val in enumerate(data[:,t]):\n",
    "            if val:\n",
    "                if p < 128:\n",
    "                    current_note = note.Note()\n",
    "                    current_note.pitch.midi = p\n",
    "                    current_length = 0.25\n",
    "\n",
    "                    nothing = False\n",
    "                elif p == 128:\n",
    "                    pass #TODO: something with rests\n",
    "                else:\n",
    "                    if nothing:\n",
    "                        current_length += 0.25\n",
    "                    current_note.duration = duration.Duration(current_length)\n",
    "                    #print('{}\\t{}'.format(current_note.pitch, current_note.duration))\n",
    "                    strm.append(current_note)\n",
    "                    current_note = None\n",
    "                    nothing = False\n",
    "        \n",
    "        if nothing and current_note: # if there was no data in this time step and there is a current note increase it's length by 1 16th\n",
    "            current_length += 0.25\n",
    "    \n",
    "    return strm\n"
   ]
  },
  {
   "cell_type": "code",
   "execution_count": 209,
   "metadata": {},
   "outputs": [
    {
     "output_type": "stream",
     "name": "stdout",
     "text": [
      "<class 'music21.instrument.ElectricBass'>\n<class 'music21.clef.Bass8vbClef'>\n<class 'music21.tempo.MetronomeMark'>\n<class 'music21.key.Key'>\n<class 'music21.meter.TimeSignature'>\n"
     ]
    },
    {
     "output_type": "execute_result",
     "data": {
      "text/plain": [
       "'data/Sin_City_decoded.mid'"
      ]
     },
     "metadata": {},
     "execution_count": 209
    }
   ],
   "source": [
    "header = []\n",
    "measures = 16\n",
    "data = encode_midi(measureMap, t=measures*16, header=header)\n",
    "strm = decode_midi(data, header)\n",
    "strm.ticksPerQuarterNote = 1024\n",
    "strm.makeRests(fillGaps=True, inPlace=True)\n",
    "#strm.show('text')\n",
    "strm.write('midi', fp='data/Sin_City_decoded.mid')"
   ]
  },
  {
   "cell_type": "code",
   "execution_count": 138,
   "metadata": {},
   "outputs": [
    {
     "output_type": "error",
     "ename": "AttributeError",
     "evalue": "can't set attribute",
     "traceback": [
      "\u001b[1;31m---------------------------------------------------------------------------\u001b[0m",
      "\u001b[1;31mAttributeError\u001b[0m                            Traceback (most recent call last)",
      "\u001b[1;32m<ipython-input-138-d2efef65680a>\u001b[0m in \u001b[0;36m<module>\u001b[1;34m\u001b[0m\n\u001b[0;32m      1\u001b[0m \u001b[0mn\u001b[0m \u001b[1;33m=\u001b[0m \u001b[0mnote\u001b[0m\u001b[1;33m.\u001b[0m\u001b[0mNote\u001b[0m\u001b[1;33m(\u001b[0m\u001b[1;34m'D#'\u001b[0m\u001b[1;33m)\u001b[0m\u001b[1;33m\u001b[0m\u001b[1;33m\u001b[0m\u001b[0m\n\u001b[1;32m----> 2\u001b[1;33m \u001b[0mn\u001b[0m\u001b[1;33m.\u001b[0m\u001b[0mbeat\u001b[0m \u001b[1;33m=\u001b[0m \u001b[1;36m1.00\u001b[0m\u001b[1;33m\u001b[0m\u001b[1;33m\u001b[0m\u001b[0m\n\u001b[0m\u001b[0;32m      3\u001b[0m \u001b[0mprint\u001b[0m\u001b[1;33m(\u001b[0m\u001b[0mn\u001b[0m\u001b[1;33m.\u001b[0m\u001b[0mpitch\u001b[0m\u001b[1;33m.\u001b[0m\u001b[0mmidi\u001b[0m\u001b[1;33m)\u001b[0m\u001b[1;33m\u001b[0m\u001b[1;33m\u001b[0m\u001b[0m\n",
      "\u001b[1;31mAttributeError\u001b[0m: can't set attribute"
     ]
    }
   ],
   "source": [
    "n = note.Note('D#')\n",
    "n.beat = 1.00\n",
    "print(n.pitch.midi)"
   ]
  }
 ]
}