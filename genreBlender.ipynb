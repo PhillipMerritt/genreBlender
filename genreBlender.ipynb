{
 "metadata": {
  "language_info": {
   "codemirror_mode": {
    "name": "ipython",
    "version": 3
   },
   "file_extension": ".py",
   "mimetype": "text/x-python",
   "name": "python",
   "nbconvert_exporter": "python",
   "pygments_lexer": "ipython3",
   "version": "3.6.6-final"
  },
  "orig_nbformat": 2,
  "kernelspec": {
   "name": "Python 3.6.6 64-bit ('env')",
   "display_name": "Python 3.6.6 64-bit ('env')",
   "metadata": {
    "interpreter": {
     "hash": "1c92dd7d8586032a086d6dc8a639a491ed5c5c1bfbd0cd37576deae009beb12d"
    }
   }
  }
 },
 "nbformat": 4,
 "nbformat_minor": 2,
 "cells": [
  {
   "cell_type": "code",
   "execution_count": 1,
   "metadata": {},
   "outputs": [],
   "source": [
    "import numpy as np\n",
    "from music21 import converter, instrument, note, chord, meter"
   ]
  },
  {
   "cell_type": "code",
   "execution_count": 37,
   "metadata": {},
   "outputs": [
    {
     "output_type": "stream",
     "name": "stdout",
     "text": [
      "<music21.meter.TimeSignature 1/8>\n"
     ]
    },
    {
     "output_type": "error",
     "ename": "Music21ObjectException",
     "evalue": "this object does not have a TimeSignature in Sites",
     "traceback": [
      "\u001b[1;31m---------------------------------------------------------------------------\u001b[0m",
      "\u001b[1;31mMusic21ObjectException\u001b[0m                    Traceback (most recent call last)",
      "\u001b[1;32m<ipython-input-37-04f97bc3b5e0>\u001b[0m in \u001b[0;36m<module>\u001b[1;34m\u001b[0m\n\u001b[0;32m     25\u001b[0m     \u001b[1;32melse\u001b[0m\u001b[1;33m:\u001b[0m\u001b[1;33m\u001b[0m\u001b[0m\n\u001b[0;32m     26\u001b[0m         \u001b[1;31m#element.duration.type = 'eighth'\u001b[0m\u001b[1;33m\u001b[0m\u001b[1;33m\u001b[0m\u001b[0m\n\u001b[1;32m---> 27\u001b[1;33m         \u001b[0mprint\u001b[0m\u001b[1;33m(\u001b[0m\u001b[1;34m\"{}\\t{}\\t{}\"\u001b[0m\u001b[1;33m.\u001b[0m\u001b[0mformat\u001b[0m\u001b[1;33m(\u001b[0m\u001b[0melement\u001b[0m\u001b[1;33m,\u001b[0m \u001b[1;33m[\u001b[0m\u001b[0mp\u001b[0m\u001b[1;33m.\u001b[0m\u001b[0mmidi\u001b[0m \u001b[1;32mfor\u001b[0m \u001b[0mp\u001b[0m \u001b[1;32min\u001b[0m \u001b[0melement\u001b[0m\u001b[1;33m.\u001b[0m\u001b[0mpitches\u001b[0m\u001b[1;33m]\u001b[0m\u001b[1;33m,\u001b[0m \u001b[1;33m[\u001b[0m\u001b[0mn\u001b[0m\u001b[1;33m.\u001b[0m\u001b[0mbeatDuration\u001b[0m \u001b[1;32mfor\u001b[0m \u001b[0mn\u001b[0m \u001b[1;32min\u001b[0m \u001b[0melement\u001b[0m\u001b[1;33m.\u001b[0m\u001b[0mnotes\u001b[0m\u001b[1;33m]\u001b[0m\u001b[1;33m)\u001b[0m\u001b[1;33m)\u001b[0m\u001b[1;33m\u001b[0m\u001b[0m\n\u001b[0m",
      "\u001b[1;32m<ipython-input-37-04f97bc3b5e0>\u001b[0m in \u001b[0;36m<listcomp>\u001b[1;34m(.0)\u001b[0m\n\u001b[0;32m     25\u001b[0m     \u001b[1;32melse\u001b[0m\u001b[1;33m:\u001b[0m\u001b[1;33m\u001b[0m\u001b[0m\n\u001b[0;32m     26\u001b[0m         \u001b[1;31m#element.duration.type = 'eighth'\u001b[0m\u001b[1;33m\u001b[0m\u001b[1;33m\u001b[0m\u001b[0m\n\u001b[1;32m---> 27\u001b[1;33m         \u001b[0mprint\u001b[0m\u001b[1;33m(\u001b[0m\u001b[1;34m\"{}\\t{}\\t{}\"\u001b[0m\u001b[1;33m.\u001b[0m\u001b[0mformat\u001b[0m\u001b[1;33m(\u001b[0m\u001b[0melement\u001b[0m\u001b[1;33m,\u001b[0m \u001b[1;33m[\u001b[0m\u001b[0mp\u001b[0m\u001b[1;33m.\u001b[0m\u001b[0mmidi\u001b[0m \u001b[1;32mfor\u001b[0m \u001b[0mp\u001b[0m \u001b[1;32min\u001b[0m \u001b[0melement\u001b[0m\u001b[1;33m.\u001b[0m\u001b[0mpitches\u001b[0m\u001b[1;33m]\u001b[0m\u001b[1;33m,\u001b[0m \u001b[1;33m[\u001b[0m\u001b[0mn\u001b[0m\u001b[1;33m.\u001b[0m\u001b[0mbeatDuration\u001b[0m \u001b[1;32mfor\u001b[0m \u001b[0mn\u001b[0m \u001b[1;32min\u001b[0m \u001b[0melement\u001b[0m\u001b[1;33m.\u001b[0m\u001b[0mnotes\u001b[0m\u001b[1;33m]\u001b[0m\u001b[1;33m)\u001b[0m\u001b[1;33m)\u001b[0m\u001b[1;33m\u001b[0m\u001b[0m\n\u001b[0m",
      "\u001b[1;32mc:\\VS_code_projects\\genreBlender\\env\\lib\\site-packages\\music21\\base.py\u001b[0m in \u001b[0;36mbeatDuration\u001b[1;34m(self)\u001b[0m\n\u001b[0;32m   3401\u001b[0m         \u001b[1;33m[\u001b[0m\u001b[1;36m2.0\u001b[0m\u001b[1;33m,\u001b[0m \u001b[1;36m2.0\u001b[0m\u001b[1;33m,\u001b[0m \u001b[1;36m3.0\u001b[0m\u001b[1;33m,\u001b[0m \u001b[1;36m3.0\u001b[0m\u001b[1;33m,\u001b[0m \u001b[1;36m3.0\u001b[0m\u001b[1;33m,\u001b[0m \u001b[1;36m2.0\u001b[0m\u001b[1;33m,\u001b[0m \u001b[1;36m2.0\u001b[0m\u001b[1;33m,\u001b[0m \u001b[1;36m3.0\u001b[0m\u001b[1;33m]\u001b[0m\u001b[1;33m\u001b[0m\u001b[0m\n\u001b[0;32m   3402\u001b[0m         '''\n\u001b[1;32m-> 3403\u001b[1;33m         \u001b[0mts\u001b[0m \u001b[1;33m=\u001b[0m \u001b[0mself\u001b[0m\u001b[1;33m.\u001b[0m\u001b[0m_getTimeSignatureForBeat\u001b[0m\u001b[1;33m(\u001b[0m\u001b[1;33m)\u001b[0m\u001b[1;33m\u001b[0m\u001b[0m\n\u001b[0m\u001b[0;32m   3404\u001b[0m         \u001b[1;32mreturn\u001b[0m \u001b[0mts\u001b[0m\u001b[1;33m.\u001b[0m\u001b[0mgetBeatDuration\u001b[0m\u001b[1;33m(\u001b[0m\u001b[0mts\u001b[0m\u001b[1;33m.\u001b[0m\u001b[0mgetMeasureOffsetOrMeterModulusOffset\u001b[0m\u001b[1;33m(\u001b[0m\u001b[0mself\u001b[0m\u001b[1;33m)\u001b[0m\u001b[1;33m)\u001b[0m\u001b[1;33m\u001b[0m\u001b[0m\n\u001b[0;32m   3405\u001b[0m \u001b[1;33m\u001b[0m\u001b[0m\n",
      "\u001b[1;32mc:\\VS_code_projects\\genreBlender\\env\\lib\\site-packages\\music21\\base.py\u001b[0m in \u001b[0;36m_getTimeSignatureForBeat\u001b[1;34m(self)\u001b[0m\n\u001b[0;32m   3287\u001b[0m             'TimeSignature', getElementMethod='getElementAtOrBeforeOffset')\n\u001b[0;32m   3288\u001b[0m         \u001b[1;32mif\u001b[0m \u001b[0mts\u001b[0m \u001b[1;32mis\u001b[0m \u001b[1;32mNone\u001b[0m\u001b[1;33m:\u001b[0m\u001b[1;33m\u001b[0m\u001b[0m\n\u001b[1;32m-> 3289\u001b[1;33m             \u001b[1;32mraise\u001b[0m \u001b[0mMusic21ObjectException\u001b[0m\u001b[1;33m(\u001b[0m\u001b[1;34m'this object does not have a TimeSignature in Sites'\u001b[0m\u001b[1;33m)\u001b[0m\u001b[1;33m\u001b[0m\u001b[0m\n\u001b[0m\u001b[0;32m   3290\u001b[0m         \u001b[1;32mreturn\u001b[0m \u001b[0mts\u001b[0m\u001b[1;33m\u001b[0m\u001b[0m\n\u001b[0;32m   3291\u001b[0m \u001b[1;33m\u001b[0m\u001b[0m\n",
      "\u001b[1;31mMusic21ObjectException\u001b[0m: this object does not have a TimeSignature in Sites"
     ]
    }
   ],
   "source": [
    "\"\"\"We modeled the monophonic melodies and basslines as\n",
    "sequences of 16th note events. This resulted in a 130-\n",
    "dimensional output space (categorical distribution over tokens) with 128 “note-on” tokens for the 128 MIDI pitches,\n",
    "plus single tokens for “note-off” and “rest”. For drum patterns, we mapped the 61 drum classes defined by the General\n",
    "MIDI standard (International MIDI Association, 1991) to 9\n",
    "canonical classes and represented all possible combinations\n",
    "of hits with 512 categorical tokens. For timing, in all cases\n",
    "we quantized notes to 16th note intervals, such that each\n",
    "bar consisted of 16 events. As a result, our two-bar data\n",
    "(used as a proof-of-concept with a flat decoder) resulted in\n",
    "sequences with T = 32 and 16-bar data had T = 256. For\n",
    "our hierarchical models, we use U = 16, meaning each\n",
    "subsequence corresponded to a single bar\"\"\"\n",
    "\n",
    "midi_path = 'data/16th_allnotes_oneinstrument.mid'\n",
    "\n",
    "midi = converter.parse(midi_path)\n",
    "midi.timeSignature = meter.TimeSignature('1/8')\n",
    "print(midi.timeSignature)\n",
    "notes = midi.flat.notes\n",
    "\n",
    "for element in notes:\n",
    "    if isinstance(element, note.Note):\n",
    "        print(\"{}\\t{}\\t{}\".format(element, element.pitch.midi, element.beatDuration))\n",
    "    else:\n",
    "        #element.duration.type = 'eighth'\n",
    "        print(\"{}\\t{}\\t{}\".format(element, [p.midi for p in element.pitches], [n.beatDuration for n in element.notes]))"
   ]
  },
  {
   "cell_type": "code",
   "execution_count": 8,
   "metadata": {},
   "outputs": [
    {
     "output_type": "error",
     "ename": "TypeError",
     "evalue": "'<' not supported between instances of 'Melody' and 'int'",
     "traceback": [
      "\u001b[1;31m---------------------------------------------------------------------------\u001b[0m",
      "\u001b[1;31mTypeError\u001b[0m                                 Traceback (most recent call last)",
      "\u001b[1;32m<ipython-input-8-b855a992fa41>\u001b[0m in \u001b[0;36m<module>\u001b[1;34m\u001b[0m\n\u001b[0;32m      3\u001b[0m \u001b[1;33m\u001b[0m\u001b[0m\n\u001b[0;32m      4\u001b[0m \u001b[0mone_hot\u001b[0m \u001b[1;33m=\u001b[0m \u001b[0mmelody_encoder_decoder\u001b[0m\u001b[1;33m.\u001b[0m\u001b[0mMelodyOneHotEncoding\u001b[0m\u001b[1;33m(\u001b[0m\u001b[1;36m0\u001b[0m\u001b[1;33m,\u001b[0m\u001b[1;36m124\u001b[0m\u001b[1;33m)\u001b[0m\u001b[1;33m\u001b[0m\u001b[0m\n\u001b[1;32m----> 5\u001b[1;33m \u001b[0mone_hot\u001b[0m\u001b[1;33m.\u001b[0m\u001b[0mencode_event\u001b[0m\u001b[1;33m(\u001b[0m\u001b[0mmelody\u001b[0m\u001b[1;33m)\u001b[0m\u001b[1;33m\u001b[0m\u001b[0m\n\u001b[0m",
      "\u001b[1;32mc:\\VS_code_projects\\genreBlender\\env\\lib\\site-packages\\note_seq\\melody_encoder_decoder.py\u001b[0m in \u001b[0;36mencode_event\u001b[1;34m(self, event)\u001b[0m\n\u001b[0;32m     97\u001b[0m           \u001b[0mself\u001b[0m\u001b[1;33m.\u001b[0m\u001b[0m_max_note\u001b[0m\u001b[1;33m,\u001b[0m \u001b[1;32mor\u001b[0m \u001b[0man\u001b[0m \u001b[0minvalid\u001b[0m \u001b[0mspecial\u001b[0m \u001b[0mevent\u001b[0m \u001b[0mvalue\u001b[0m\u001b[1;33m.\u001b[0m\u001b[1;33m\u001b[0m\u001b[0m\n\u001b[0;32m     98\u001b[0m     \"\"\"\n\u001b[1;32m---> 99\u001b[1;33m     \u001b[1;32mif\u001b[0m \u001b[0mevent\u001b[0m \u001b[1;33m<\u001b[0m \u001b[1;33m-\u001b[0m\u001b[0mNUM_SPECIAL_MELODY_EVENTS\u001b[0m\u001b[1;33m:\u001b[0m\u001b[1;33m\u001b[0m\u001b[0m\n\u001b[0m\u001b[0;32m    100\u001b[0m       \u001b[1;32mraise\u001b[0m \u001b[0mValueError\u001b[0m\u001b[1;33m(\u001b[0m\u001b[1;34m'invalid melody event value: %d'\u001b[0m \u001b[1;33m%\u001b[0m \u001b[0mevent\u001b[0m\u001b[1;33m)\u001b[0m\u001b[1;33m\u001b[0m\u001b[0m\n\u001b[0;32m    101\u001b[0m     \u001b[1;32mif\u001b[0m \u001b[1;36m0\u001b[0m \u001b[1;33m<=\u001b[0m \u001b[0mevent\u001b[0m \u001b[1;33m<\u001b[0m \u001b[0mself\u001b[0m\u001b[1;33m.\u001b[0m\u001b[0m_min_note\u001b[0m\u001b[1;33m:\u001b[0m\u001b[1;33m\u001b[0m\u001b[0m\n",
      "\u001b[1;31mTypeError\u001b[0m: '<' not supported between instances of 'Melody' and 'int'"
     ]
    }
   ],
   "source": [
    "from note_seq import midi_file_to_note_sequence, midi_file_to_melody, melody_encoder_decoder\n",
    "melody = midi_file_to_melody('data/midis/16th_allnotes_oneinstrument.mid')\n",
    "\n",
    "one_hot = melody_encoder_decoder.MelodyOneHotEncoding(0,124)\n",
    "one_hot.encode_event(melody)"
   ]
  },
  {
   "cell_type": "code",
   "execution_count": 10,
   "metadata": {},
   "outputs": [
    {
     "output_type": "stream",
     "name": "stdout",
     "text": [
      "INFO:tensorflow:Converting files in 'data/midis\\'.\n",
      "INFO:tensorflow:0 files converted.\n",
      "INFO:tensorflow:Converted MIDI file data/midis\\16th_allnotes_oneinstrument.mid.\n",
      "INFO:tensorflow:Converted MIDI file data/midis\\8th_allnotes_oneinstrument.mid.\n"
     ]
    }
   ],
   "source": [
    "from magenta.scripts.convert_dir_to_note_sequences import convert_directory\n",
    "\n",
    "convert_directory('data/midis', 'data/test.tfrecord')"
   ]
  },
  {
   "cell_type": "code",
   "execution_count": null,
   "metadata": {},
   "outputs": [],
   "source": []
  }
 ]
}