{
 "metadata": {
  "language_info": {
   "codemirror_mode": {
    "name": "ipython",
    "version": 3
   },
   "file_extension": ".py",
   "mimetype": "text/x-python",
   "name": "python",
   "nbconvert_exporter": "python",
   "pygments_lexer": "ipython3",
   "version": "3.6.6-final"
  },
  "orig_nbformat": 2,
  "kernelspec": {
   "name": "Python 3.6.6 64-bit ('env')",
   "display_name": "Python 3.6.6 64-bit ('env')",
   "metadata": {
    "interpreter": {
     "hash": "1c92dd7d8586032a086d6dc8a639a491ed5c5c1bfbd0cd37576deae009beb12d"
    }
   }
  }
 },
 "nbformat": 4,
 "nbformat_minor": 2,
 "cells": [
  {
   "cell_type": "code",
   "execution_count": 18,
   "metadata": {},
   "outputs": [],
   "source": [
    "import numpy as np\n",
    "from music21 import converter, instrument, note, chord, meter, duration, stream\n",
    "import music21\n",
    "import os\n",
    "from tqdm import tqdm\n",
    "from joblib import Parallel, delayed\n",
    "from music21 import common\n",
    "\n",
    "def insert_note(arr, note, offset_16th, single_note_length): \n",
    "    idx = int(offset_16th + (note.beat - 1) * single_note_length)\n",
    "    if idx >= len(arr):\n",
    "        return\n",
    "    arr[int(note.pitch.midi), idx] = True\n",
    "\n",
    "    note_off = idx + int(note.duration.quarterLength * 4) - 1\n",
    "    if note_off >= arr.shape[1]:\n",
    "        note_off = arr.shape[1] - 1\n",
    "    arr[-1, note_off] = True\n",
    "\n",
    "def encode_midi(measureMap, t=32, measure_length=16, single_note_length = 4, header=None):\n",
    "    data = np.zeros((130, t), dtype=np.bool)\n",
    "    measure_count = 0\n",
    "    fill_header = True\n",
    "\n",
    "    measure_keys = measureMap.keys()\n",
    "    measure_keys = sorted(measure_keys)\n",
    "\n",
    "    #for i in range(0, t, measure_length):\n",
    "    for key in measure_keys:\n",
    "        i = key * single_note_length\n",
    "        if i >= t:\n",
    "            break\n",
    "        try:\n",
    "            for element in measureMap[key][0]:\n",
    "                #print(element)\n",
    "                if isinstance(element, note.Note):\n",
    "                    fill_header = False\n",
    "                    insert_note(data, element, i, single_note_length)\n",
    "                elif fill_header and header != None:\n",
    "                    print(type(element))\n",
    "                    header.append(element)\n",
    "        except:\n",
    "            print(measure_length)\n",
    "            print(single_note_length)\n",
    "            print(float(i / single_note_length))\n",
    "            print(measureMap)\n",
    "\n",
    "            \"\"\"elif isinstance(element, music21.clef.TrebleClef) or isinstance(element, music21.clef.BassClef):\n",
    "                clf = element\n",
    "            elif isinstance(element, music21.tempo.MetronomeMark):\n",
    "                tempo = element\n",
    "            elif isinstance(element, music21.key.Key):\n",
    "                song_key = element\n",
    "            elif isinstance(element, music21.instrument.Instrument):\n",
    "                inst = element\n",
    "            elif isinstance(element, music21.meter.TimeSignature):\n",
    "                ts = element\n",
    "            else:\n",
    "                print(type(element))\"\"\"\n",
    "    \n",
    "    return data\n",
    "\n",
    "def decode_midi(data, header=None):\n",
    "    strm = stream.Stream()\n",
    "    \n",
    "    for element in header[1:]: # TODO: right now I'm skipping the instrument because it adds like 10 empty measures for some reason\n",
    "        strm.append(element)\n",
    "\n",
    "    current_note = None\n",
    "    current_length = 0.25\n",
    "\n",
    "    for t in range(data.shape[1]):\n",
    "        nothing = True\n",
    "\n",
    "        for p, val in enumerate(data[:,t]):\n",
    "            if val:\n",
    "                if p < 128:\n",
    "                    current_note = note.Note()\n",
    "                    current_note.pitch.midi = p\n",
    "                    current_length = 0.25\n",
    "\n",
    "                    nothing = False\n",
    "                elif p == 128:\n",
    "                    pass #TODO: something with rests\n",
    "                else:\n",
    "                    if nothing:\n",
    "                        current_length += 0.25\n",
    "                    current_note.duration = duration.Duration(current_length)\n",
    "                    #print('{}\\t{}'.format(current_note.pitch, current_note.duration))\n",
    "                    strm.append(current_note)\n",
    "                    current_note = None\n",
    "                    nothing = False\n",
    "        \n",
    "        if nothing and current_note: # if there was no data in this time step and there is a current note increase it's length by 1 16th\n",
    "            current_length += 0.25\n",
    "    \n",
    "    return strm\n",
    "\n",
    "def load_single(midi, measures=16):\n",
    "    #midi = converter.parse(path)\n",
    "    ts = midi.getTimeSignatures()[0]\n",
    "    num = ts.numerator\n",
    "    denom = ts.denominator\n",
    "\n",
    "    measure_length = None # length of measure in 16ths\n",
    "    single_note_length = None # length of a single note in 16ths\n",
    "\n",
    "    if denom / 4 == 1:\n",
    "        measure_length = num * 4 # quarter notes\n",
    "        single_note_length = 4\n",
    "    elif denom / 4 == 2:\n",
    "        measure_length = num * 2 # eigth notes\n",
    "        single_note_length = 2\n",
    "    elif denom / 4 == 4:\n",
    "        measure_length = num # 16ths\n",
    "        single_note_length = 1\n",
    "\n",
    "\n",
    "    notes_to_parse = None\n",
    "    parts = instrument.partitionByInstrument(midi)\n",
    "    if parts: # file has instrument parts\n",
    "        #notes_to_parse = parts.parts[0].recurse()\n",
    "        parts.parts[0].makeMeasures(inPlace=True)\n",
    "        measureMap = parts.parts[0].measureOffsetMap()\n",
    "    else: # file has notes in a flat structure\n",
    "        #notes_to_parse = midi.flat.notes\n",
    "        measureMap = midi.flat.measureOffsetMap()\n",
    "\n",
    "    \"\"\" print(measureMap)\n",
    "    return \"\"\"\n",
    "    return encode_midi(measureMap, t=measures*16, measure_length=measure_length, single_note_length = single_note_length)\n",
    "\n",
    "def parse(fn):\n",
    "    try:\n",
    "        return converter.parse(fn)\n",
    "    except:\n",
    "        return None\n",
    "\n",
    "def load_data(folder):\n",
    "    filenames = [folder + f for f in os.listdir(folder)]\n",
    "    results = common.runParallel(filenames, parse, updateFunction=True)\n",
    "    #result = Parallel(n_jobs=4, backend=\"threading\", verbose=1)(delayed(load_single)(folder + f, measures=16) for f in filenames)\n",
    "    data = []\n",
    "    for midi in tqdm(results):\n",
    "        if midi:\n",
    "            data.append(load_single(midi))\n",
    "    \n",
    "    return np.array(data)\n",
    "\n"
   ]
  },
  {
   "cell_type": "code",
   "execution_count": 19,
   "metadata": {
    "tags": []
   },
   "outputs": [
    {
     "output_type": "stream",
     "name": "stdout",
     "text": [
      "Done 0 tasks of 153\n",
      "Done 33 tasks of 153\n",
      "Done 66 tasks of 153\n",
      "Done 99 tasks of 153\n",
      "Done 132 tasks of 153\n",
      "  0%|          | 0/153 [00:00<?, ?it/s]Done 153 tasks of 153\n",
      " 39%|███▊      | 59/153 [00:12<00:20,  4.55it/s]\n"
     ]
    },
    {
     "output_type": "error",
     "ename": "TypeError",
     "evalue": "unsupported operand type(s) for *: 'float' and 'NoneType'",
     "traceback": [
      "\u001b[1;31m---------------------------------------------------------------------------\u001b[0m",
      "\u001b[1;31mTypeError\u001b[0m                                 Traceback (most recent call last)",
      "\u001b[1;32m<ipython-input-19-ccd597be18e5>\u001b[0m in \u001b[0;36m<module>\u001b[1;34m\u001b[0m\n\u001b[1;32m----> 1\u001b[1;33m \u001b[0mtrain_x\u001b[0m \u001b[1;33m=\u001b[0m \u001b[0mload_data\u001b[0m\u001b[1;33m(\u001b[0m\u001b[1;34m'data/validate/'\u001b[0m\u001b[1;33m)\u001b[0m\u001b[1;33m\u001b[0m\u001b[0m\n\u001b[0m",
      "\u001b[1;32m<ipython-input-18-6341f0c76771>\u001b[0m in \u001b[0;36mload_data\u001b[1;34m(folder)\u001b[0m\n\u001b[0;32m    144\u001b[0m     \u001b[1;32mfor\u001b[0m \u001b[0mmidi\u001b[0m \u001b[1;32min\u001b[0m \u001b[0mtqdm\u001b[0m\u001b[1;33m(\u001b[0m\u001b[0mresults\u001b[0m\u001b[1;33m)\u001b[0m\u001b[1;33m:\u001b[0m\u001b[1;33m\u001b[0m\u001b[0m\n\u001b[0;32m    145\u001b[0m         \u001b[1;32mif\u001b[0m \u001b[0mmidi\u001b[0m\u001b[1;33m:\u001b[0m\u001b[1;33m\u001b[0m\u001b[0m\n\u001b[1;32m--> 146\u001b[1;33m             \u001b[0mdata\u001b[0m\u001b[1;33m.\u001b[0m\u001b[0mappend\u001b[0m\u001b[1;33m(\u001b[0m\u001b[0mload_single\u001b[0m\u001b[1;33m(\u001b[0m\u001b[0mmidi\u001b[0m\u001b[1;33m)\u001b[0m\u001b[1;33m)\u001b[0m\u001b[1;33m\u001b[0m\u001b[0m\n\u001b[0m\u001b[0;32m    147\u001b[0m \u001b[1;33m\u001b[0m\u001b[0m\n\u001b[0;32m    148\u001b[0m     \u001b[1;32mreturn\u001b[0m \u001b[0mnp\u001b[0m\u001b[1;33m.\u001b[0m\u001b[0marray\u001b[0m\u001b[1;33m(\u001b[0m\u001b[0mdata\u001b[0m\u001b[1;33m)\u001b[0m\u001b[1;33m\u001b[0m\u001b[0m\n",
      "\u001b[1;32m<ipython-input-18-6341f0c76771>\u001b[0m in \u001b[0;36mload_single\u001b[1;34m(midi, measures)\u001b[0m\n\u001b[0;32m    129\u001b[0m     \"\"\" print(measureMap)\n\u001b[0;32m    130\u001b[0m     return \"\"\"\n\u001b[1;32m--> 131\u001b[1;33m     \u001b[1;32mreturn\u001b[0m \u001b[0mencode_midi\u001b[0m\u001b[1;33m(\u001b[0m\u001b[0mmeasureMap\u001b[0m\u001b[1;33m,\u001b[0m \u001b[0mt\u001b[0m\u001b[1;33m=\u001b[0m\u001b[0mmeasures\u001b[0m\u001b[1;33m*\u001b[0m\u001b[1;36m16\u001b[0m\u001b[1;33m,\u001b[0m \u001b[0mmeasure_length\u001b[0m\u001b[1;33m=\u001b[0m\u001b[0mmeasure_length\u001b[0m\u001b[1;33m,\u001b[0m \u001b[0msingle_note_length\u001b[0m \u001b[1;33m=\u001b[0m \u001b[0msingle_note_length\u001b[0m\u001b[1;33m)\u001b[0m\u001b[1;33m\u001b[0m\u001b[0m\n\u001b[0m\u001b[0;32m    132\u001b[0m \u001b[1;33m\u001b[0m\u001b[0m\n\u001b[0;32m    133\u001b[0m \u001b[1;32mdef\u001b[0m \u001b[0mparse\u001b[0m\u001b[1;33m(\u001b[0m\u001b[0mfn\u001b[0m\u001b[1;33m)\u001b[0m\u001b[1;33m:\u001b[0m\u001b[1;33m\u001b[0m\u001b[0m\n",
      "\u001b[1;32m<ipython-input-18-6341f0c76771>\u001b[0m in \u001b[0;36mencode_midi\u001b[1;34m(measureMap, t, measure_length, single_note_length, header)\u001b[0m\n\u001b[0;32m     28\u001b[0m     \u001b[1;31m#for i in range(0, t, measure_length):\u001b[0m\u001b[1;33m\u001b[0m\u001b[1;33m\u001b[0m\u001b[0m\n\u001b[0;32m     29\u001b[0m     \u001b[1;32mfor\u001b[0m \u001b[0mkey\u001b[0m \u001b[1;32min\u001b[0m \u001b[0mmeasure_keys\u001b[0m\u001b[1;33m:\u001b[0m\u001b[1;33m\u001b[0m\u001b[0m\n\u001b[1;32m---> 30\u001b[1;33m         \u001b[0mi\u001b[0m \u001b[1;33m=\u001b[0m \u001b[0mkey\u001b[0m \u001b[1;33m*\u001b[0m \u001b[0msingle_note_length\u001b[0m\u001b[1;33m\u001b[0m\u001b[0m\n\u001b[0m\u001b[0;32m     31\u001b[0m         \u001b[1;32mif\u001b[0m \u001b[0mi\u001b[0m \u001b[1;33m>=\u001b[0m \u001b[0mt\u001b[0m\u001b[1;33m:\u001b[0m\u001b[1;33m\u001b[0m\u001b[0m\n\u001b[0;32m     32\u001b[0m             \u001b[1;32mbreak\u001b[0m\u001b[1;33m\u001b[0m\u001b[0m\n",
      "\u001b[1;31mTypeError\u001b[0m: unsupported operand type(s) for *: 'float' and 'NoneType'"
     ]
    }
   ],
   "source": [
    "\n",
    "train_x = load_data('data/validate/')"
   ]
  },
  {
   "cell_type": "code",
   "execution_count": 209,
   "metadata": {},
   "outputs": [
    {
     "output_type": "stream",
     "name": "stdout",
     "text": [
      "<class 'music21.instrument.ElectricBass'>\n<class 'music21.clef.Bass8vbClef'>\n<class 'music21.tempo.MetronomeMark'>\n<class 'music21.key.Key'>\n<class 'music21.meter.TimeSignature'>\n"
     ]
    },
    {
     "output_type": "execute_result",
     "data": {
      "text/plain": [
       "'data/Sin_City_decoded.mid'"
      ]
     },
     "metadata": {},
     "execution_count": 209
    }
   ],
   "source": [
    "header = []\n",
    "measures = 16\n",
    "data = encode_midi(measureMap, t=measures*16, header=header)\n",
    "strm = decode_midi(data, header)\n",
    "strm.ticksPerQuarterNote = 1024\n",
    "strm.makeRests(fillGaps=True, inPlace=True)\n",
    "#strm.show('text')\n",
    "strm.write('midi', fp='data/Sin_City_decoded.mid')"
   ]
  },
  {
   "cell_type": "code",
   "execution_count": null,
   "metadata": {},
   "outputs": [],
   "source": []
  }
 ]
}